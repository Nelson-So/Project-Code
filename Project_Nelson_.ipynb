{
 "cells": [
  {
   "cell_type": "code",
   "execution_count": 22,
   "id": "66de7bf2",
   "metadata": {
    "scrolled": false
   },
   "outputs": [
    {
     "name": "stderr",
     "output_type": "stream",
     "text": [
      "C:\\Users\\steve\\AppData\\Local\\Temp\\ipykernel_16472\\3791988440.py:9: DtypeWarning: Columns (7) have mixed types. Specify dtype option on import or set low_memory=False.\n",
      "  sales=pd.read_csv('Rossmann_train.csv')\n"
     ]
    },
    {
     "data": {
      "text/html": [
       "<div>\n",
       "<style scoped>\n",
       "    .dataframe tbody tr th:only-of-type {\n",
       "        vertical-align: middle;\n",
       "    }\n",
       "\n",
       "    .dataframe tbody tr th {\n",
       "        vertical-align: top;\n",
       "    }\n",
       "\n",
       "    .dataframe thead th {\n",
       "        text-align: right;\n",
       "    }\n",
       "</style>\n",
       "<table border=\"1\" class=\"dataframe\">\n",
       "  <thead>\n",
       "    <tr style=\"text-align: right;\">\n",
       "      <th></th>\n",
       "      <th>Store</th>\n",
       "      <th>DayOfWeek</th>\n",
       "      <th>Date</th>\n",
       "      <th>Sales</th>\n",
       "      <th>Customers</th>\n",
       "      <th>Open</th>\n",
       "      <th>Promo</th>\n",
       "      <th>StateHoliday</th>\n",
       "      <th>SchoolHoliday</th>\n",
       "    </tr>\n",
       "  </thead>\n",
       "  <tbody>\n",
       "    <tr>\n",
       "      <th>0</th>\n",
       "      <td>1</td>\n",
       "      <td>5</td>\n",
       "      <td>2015-07-31</td>\n",
       "      <td>5263</td>\n",
       "      <td>555</td>\n",
       "      <td>1</td>\n",
       "      <td>1</td>\n",
       "      <td>0</td>\n",
       "      <td>1</td>\n",
       "    </tr>\n",
       "    <tr>\n",
       "      <th>1</th>\n",
       "      <td>2</td>\n",
       "      <td>5</td>\n",
       "      <td>2015-07-31</td>\n",
       "      <td>6064</td>\n",
       "      <td>625</td>\n",
       "      <td>1</td>\n",
       "      <td>1</td>\n",
       "      <td>0</td>\n",
       "      <td>1</td>\n",
       "    </tr>\n",
       "    <tr>\n",
       "      <th>2</th>\n",
       "      <td>3</td>\n",
       "      <td>5</td>\n",
       "      <td>2015-07-31</td>\n",
       "      <td>8314</td>\n",
       "      <td>821</td>\n",
       "      <td>1</td>\n",
       "      <td>1</td>\n",
       "      <td>0</td>\n",
       "      <td>1</td>\n",
       "    </tr>\n",
       "    <tr>\n",
       "      <th>3</th>\n",
       "      <td>4</td>\n",
       "      <td>5</td>\n",
       "      <td>2015-07-31</td>\n",
       "      <td>13995</td>\n",
       "      <td>1498</td>\n",
       "      <td>1</td>\n",
       "      <td>1</td>\n",
       "      <td>0</td>\n",
       "      <td>1</td>\n",
       "    </tr>\n",
       "    <tr>\n",
       "      <th>4</th>\n",
       "      <td>5</td>\n",
       "      <td>5</td>\n",
       "      <td>2015-07-31</td>\n",
       "      <td>4822</td>\n",
       "      <td>559</td>\n",
       "      <td>1</td>\n",
       "      <td>1</td>\n",
       "      <td>0</td>\n",
       "      <td>1</td>\n",
       "    </tr>\n",
       "    <tr>\n",
       "      <th>...</th>\n",
       "      <td>...</td>\n",
       "      <td>...</td>\n",
       "      <td>...</td>\n",
       "      <td>...</td>\n",
       "      <td>...</td>\n",
       "      <td>...</td>\n",
       "      <td>...</td>\n",
       "      <td>...</td>\n",
       "      <td>...</td>\n",
       "    </tr>\n",
       "    <tr>\n",
       "      <th>1017204</th>\n",
       "      <td>1111</td>\n",
       "      <td>2</td>\n",
       "      <td>2013-01-01</td>\n",
       "      <td>0</td>\n",
       "      <td>0</td>\n",
       "      <td>0</td>\n",
       "      <td>0</td>\n",
       "      <td>a</td>\n",
       "      <td>1</td>\n",
       "    </tr>\n",
       "    <tr>\n",
       "      <th>1017205</th>\n",
       "      <td>1112</td>\n",
       "      <td>2</td>\n",
       "      <td>2013-01-01</td>\n",
       "      <td>0</td>\n",
       "      <td>0</td>\n",
       "      <td>0</td>\n",
       "      <td>0</td>\n",
       "      <td>a</td>\n",
       "      <td>1</td>\n",
       "    </tr>\n",
       "    <tr>\n",
       "      <th>1017206</th>\n",
       "      <td>1113</td>\n",
       "      <td>2</td>\n",
       "      <td>2013-01-01</td>\n",
       "      <td>0</td>\n",
       "      <td>0</td>\n",
       "      <td>0</td>\n",
       "      <td>0</td>\n",
       "      <td>a</td>\n",
       "      <td>1</td>\n",
       "    </tr>\n",
       "    <tr>\n",
       "      <th>1017207</th>\n",
       "      <td>1114</td>\n",
       "      <td>2</td>\n",
       "      <td>2013-01-01</td>\n",
       "      <td>0</td>\n",
       "      <td>0</td>\n",
       "      <td>0</td>\n",
       "      <td>0</td>\n",
       "      <td>a</td>\n",
       "      <td>1</td>\n",
       "    </tr>\n",
       "    <tr>\n",
       "      <th>1017208</th>\n",
       "      <td>1115</td>\n",
       "      <td>2</td>\n",
       "      <td>2013-01-01</td>\n",
       "      <td>0</td>\n",
       "      <td>0</td>\n",
       "      <td>0</td>\n",
       "      <td>0</td>\n",
       "      <td>a</td>\n",
       "      <td>1</td>\n",
       "    </tr>\n",
       "  </tbody>\n",
       "</table>\n",
       "<p>1017209 rows × 9 columns</p>\n",
       "</div>"
      ],
      "text/plain": [
       "         Store  DayOfWeek        Date  Sales  Customers  Open  Promo  \\\n",
       "0            1          5  2015-07-31   5263        555     1      1   \n",
       "1            2          5  2015-07-31   6064        625     1      1   \n",
       "2            3          5  2015-07-31   8314        821     1      1   \n",
       "3            4          5  2015-07-31  13995       1498     1      1   \n",
       "4            5          5  2015-07-31   4822        559     1      1   \n",
       "...        ...        ...         ...    ...        ...   ...    ...   \n",
       "1017204   1111          2  2013-01-01      0          0     0      0   \n",
       "1017205   1112          2  2013-01-01      0          0     0      0   \n",
       "1017206   1113          2  2013-01-01      0          0     0      0   \n",
       "1017207   1114          2  2013-01-01      0          0     0      0   \n",
       "1017208   1115          2  2013-01-01      0          0     0      0   \n",
       "\n",
       "        StateHoliday  SchoolHoliday  \n",
       "0                  0              1  \n",
       "1                  0              1  \n",
       "2                  0              1  \n",
       "3                  0              1  \n",
       "4                  0              1  \n",
       "...              ...            ...  \n",
       "1017204            a              1  \n",
       "1017205            a              1  \n",
       "1017206            a              1  \n",
       "1017207            a              1  \n",
       "1017208            a              1  \n",
       "\n",
       "[1017209 rows x 9 columns]"
      ]
     },
     "execution_count": 22,
     "metadata": {},
     "output_type": "execute_result"
    }
   ],
   "source": [
    "import numpy as np\n",
    "import pandas as pd\n",
    "import matplotlib.pyplot as plt\n",
    "import seaborn as sns\n",
    "from sklearn.linear_model import LinearRegression\n",
    "from sklearn.model_selection import train_test_split\n",
    "from sklearn.metrics import r2_score\n",
    "\n",
    "sales=pd.read_csv('Rossmann_train.csv')\n",
    "stores=pd.read_csv('Rossmann_store.csv')\n",
    "\n",
    "store = sales.groupby([\"Store\"]).sum()\n",
    "store = store.drop(columns = \"DayOfWeek\")\n",
    "\n",
    "data=pd.merge(store,stores, on = \"Store\")\n",
    "\n"
   ]
  },
  {
   "cell_type": "code",
   "execution_count": 23,
   "id": "cddfae27",
   "metadata": {},
   "outputs": [
    {
     "data": {
      "text/plain": [
       "633.1459464082602"
      ]
     },
     "execution_count": 23,
     "metadata": {},
     "output_type": "execute_result"
    }
   ],
   "source": [
    "\n"
   ]
  },
  {
   "cell_type": "code",
   "execution_count": null,
   "id": "eac45bc3",
   "metadata": {},
   "outputs": [],
   "source": []
  },
  {
   "cell_type": "code",
   "execution_count": 4,
   "id": "41b3ec9c",
   "metadata": {},
   "outputs": [
    {
     "name": "stdout",
     "output_type": "stream",
     "text": [
      "Assortment\n",
      "a    2945750070\n",
      "b      70946312\n",
      "c    2856484241\n",
      "Name: Sales, dtype: int64\n",
      "Assortment\n",
      "a    4.967538e+06\n",
      "b    7.882924e+06\n",
      "c    5.568195e+06\n",
      "Name: Sales, dtype: float64\n",
      "The highest average sales for assortment is: b\n"
     ]
    }
   ],
   "source": [
    "average_sales_by_assortment = data.groupby('Assortment')['Sales'].mean()\n",
    "Total_sales_by_assortment = data.groupby('Assortment')['Sales'].sum()\n",
    "print(Total_sales_by_assortment)\n",
    "print(average_sales_by_assortment)\n",
    "highest_average_sales_assortment = average_sales_by_assortment.idxmax()\n",
    "print(\"The highest average sales for assortment is:\", highest_average_sales_assortment)"
   ]
  },
  {
   "cell_type": "code",
   "execution_count": 5,
   "id": "58d69d8b",
   "metadata": {},
   "outputs": [
    {
     "name": "stdout",
     "output_type": "stream",
     "text": [
      "StoreType\n",
      "a    3165334859\n",
      "b     159231395\n",
      "c     783221426\n",
      "d    1765392943\n",
      "Name: Sales, dtype: int64\n",
      "StoreType\n",
      "a    5.258031e+06\n",
      "b    9.366553e+06\n",
      "c    5.292037e+06\n",
      "d    5.072968e+06\n",
      "Name: Sales, dtype: float64\n",
      "The highest average sales for store type is: b\n"
     ]
    }
   ],
   "source": [
    "average_sales_by_store_type = data.groupby('StoreType')['Sales'].mean()\n",
    "Total_sales_by_store_type = data.groupby('StoreType')['Sales'].sum()\n",
    "print(Total_sales_by_store_type)\n",
    "print(average_sales_by_store_type)\n",
    "highest_average_sales_assortment = average_sales_by_store_type.idxmax()\n",
    "print(\"The highest average sales for store type is:\", highest_average_sales_assortment)"
   ]
  },
  {
   "cell_type": "code",
   "execution_count": 6,
   "id": "e952e02c",
   "metadata": {},
   "outputs": [
    {
     "data": {
      "image/png": "[encoded data removed]",
      "text/plain": [
       "<Figure size 1000x600 with 1 Axes>"
      ]
     },
     "metadata": {},
     "output_type": "display_data"
    }
   ],
   "source": [
    "import matplotlib.pyplot as plt\n",
    "assortment_sales_avg = data.groupby('Assortment')['Sales'].mean()\n",
    "plt.figure(figsize=(10, 6))\n",
    "assortment_sales_avg.plot(kind='bar', color='purple')\n",
    "plt.title('Average Sales by Assortment')\n",
    "plt.xlabel('Assortment')\n",
    "plt.ylabel('Average Sales($million)')\n",
    "plt.xticks(rotation=0)\n",
    "plt.tight_layout()\n",
    "plt.show()\n"
   ]
  },
  {
   "cell_type": "code",
   "execution_count": 7,
   "id": "174f06d4",
   "metadata": {},
   "outputs": [
    {
     "data": {
      "image/png": "[encoded data removed]",
      "text/plain": [
       "<Figure size 1000x600 with 1 Axes>"
      ]
     },
     "metadata": {},
     "output_type": "display_data"
    }
   ],
   "source": [
    "import numpy as np\n",
    "import pandas as pd\n",
    "import matplotlib.pyplot as plt\n",
    "import seaborn as sns\n",
    "\n",
    "# Assuming you have already loaded and merged the data as 'data'\n",
    "\n",
    "# Create box plots for each assortment type and their sales\n",
    "plt.figure(figsize=(10, 6))\n",
    "sns.boxplot(x='Assortment', y='Sales', data=data)\n",
    "plt.xlabel('Assortment Type')\n",
    "plt.ylabel('Sales')\n",
    "plt.title('Box Plots of Sales by Assortment Type')\n",
    "plt.grid(True)\n",
    "\n",
    "# Show the plot\n",
    "plt.show()\n"
   ]
  },
  {
   "cell_type": "code",
   "execution_count": 25,
   "id": "c7a0891f",
   "metadata": {
    "scrolled": true
   },
   "outputs": [
    {
     "name": "stdout",
     "output_type": "stream",
     "text": [
      "Mean Absolute Error (MAE): 746392.8863581235\n",
      "Root Mean Squared Error (RMSE): 1033898.6445781661\n"
     ]
    }
   ],
   "source": [
    "from sklearn.linear_model import LinearRegression\n",
    "from sklearn.model_selection import train_test_split\n",
    "from sklearn.metrics import mean_absolute_error, mean_squared_error\n",
    "from sklearn.preprocessing import LabelEncoder\n",
    "import numpy as np\n",
    "data.fillna(0, inplace=True)\n",
    "label_encoder = LabelEncoder()\n",
    "data['Assortment'] = label_encoder.fit_transform(data['Assortment'])\n",
    "\n",
    "X = data[['Assortment', 'Customers']]  \n",
    "y = data['Sales']\n",
    "\n",
    "X_train, X_test, y_train, y_test = train_test_split(X, y, test_size=0.2, random_state=42)\n",
    "\n",
    "model = LinearRegression()\n",
    "model.fit(X_train, y_train)\n",
    "y_pred = model.predict(X_test)\n",
    "\n",
    "mae = mean_absolute_error(y_test, y_pred)\n",
    "rmse = np.sqrt(mean_squared_error(y_test, y_pred))\n",
    "\n",
    "print(f\"Mean Absolute Error (MAE): {mae}\")\n",
    "print(f\"Root Mean Squared Error (RMSE): {rmse}\")\n"
   ]
  },
  {
   "cell_type": "code",
   "execution_count": 30,
   "id": "f04cce6f",
   "metadata": {},
   "outputs": [
    {
     "name": "stdout",
     "output_type": "stream",
     "text": [
      "Predicted Sales for Assortment Type 1: 2114540.5042106267\n",
      "Predicted Sales for Assortment Type 2: 2348699.2770945043\n",
      "Predicted Sales for Assortment Type 3: 2582858.049978382\n"
     ]
    }
   ],
   "source": [
    "import pandas as pd\n",
    "assortment_types = [1, 2, 3]\n",
    "customers = [500, 600, 700]  \n",
    "\n",
    "predicted_sales = []\n",
    "\n",
    "for assortment_type, customer_count in zip(assortment_types, customers):\n",
    "    new_data_point = pd.DataFrame({'Assortment': [assortment_type], 'Customers': [customer_count]})\n",
    "    sales_prediction = model.predict(new_data_point)\n",
    "    predicted_sales.append(sales_prediction[0])\n",
    "\n",
    "# Print the predicted sales for each assortment type\n",
    "for i, assortment_type in enumerate(assortment_types):\n",
    "    print(f\"Predicted Sales for Assortment Type {assortment_type}: {predicted_sales[i]}\")\n"
   ]
  },
  {
   "cell_type": "code",
   "execution_count": 24,
   "id": "57be0c52",
   "metadata": {},
   "outputs": [
    {
     "name": "stdout",
     "output_type": "stream",
     "text": [
      "Mean Absolute Error (MAE): 746392.8863581235\n",
      "Root Mean Squared Error (RMSE): 1033898.6445781661\n"
     ]
    }
   ],
   "source": []
  },
  {
   "cell_type": "code",
   "execution_count": 10,
   "id": "3bdaeea6",
   "metadata": {},
   "outputs": [
    {
     "name": "stdout",
     "output_type": "stream",
     "text": [
      "StoreType\n",
      "a    3165334859\n",
      "b     159231395\n",
      "c     783221426\n",
      "d    1765392943\n",
      "Name: Sales, dtype: int64\n",
      "StoreType\n",
      "a    5.258031e+06\n",
      "b    9.366553e+06\n",
      "c    5.292037e+06\n",
      "d    5.072968e+06\n",
      "Name: Sales, dtype: float64\n",
      "The highest average sales for store type is: b\n"
     ]
    }
   ],
   "source": [
    "\n",
    "average_sales_by_store_type = data.groupby('StoreType')['Sales'].mean()\n",
    "Total_sales_by_store_type = data.groupby('StoreType')['Sales'].sum()\n",
    "print(Total_sales_by_store_type)\n",
    "print(average_sales_by_store_type)\n",
    "highest_average_sales_assortment = average_sales_by_store_type.idxmax()\n",
    "print(\"The highest average sales for store type is:\", highest_average_sales_assortment)"
   ]
  },
  {
   "cell_type": "code",
   "execution_count": 11,
   "id": "d5669be3",
   "metadata": {},
   "outputs": [
    {
     "data": {
      "image/png": "[encoded data removed]",
      "text/plain": [
       "<Figure size 1000x600 with 1 Axes>"
      ]
     },
     "metadata": {},
     "output_type": "display_data"
    }
   ],
   "source": [
    "import matplotlib.pyplot as plt\n",
    "plt.figure(figsize=(10, 6))\n",
    "average_sales_by_store_type.plot(kind='bar', color='Green')\n",
    "plt.title('Average Sales by Store Type')\n",
    "plt.xlabel('Store Type')\n",
    "plt.ylabel('Average Sales($million)')\n",
    "plt.xticks(rotation=0)\n",
    "plt.tight_layout()\n",
    "plt.show()\n"
   ]
  },
  {
   "cell_type": "code",
   "execution_count": 12,
   "id": "8b56ffb3",
   "metadata": {},
   "outputs": [
    {
     "data": {
      "image/png": "[encoded data removed]",
      "text/plain": [
       "<Figure size 1000x600 with 1 Axes>"
      ]
     },
     "metadata": {},
     "output_type": "display_data"
    }
   ],
   "source": [
    "import numpy as np\n",
    "import pandas as pd\n",
    "import matplotlib.pyplot as plt\n",
    "import seaborn as sns\n",
    "\n",
    "# Assuming you have already loaded and merged the data as 'data'\n",
    "\n",
    "# Create box plots for each assortment type and their sales\n",
    "plt.figure(figsize=(10, 6))\n",
    "sns.boxplot(x='StoreType', y='Sales', data=data)\n",
    "plt.xlabel('Store Type')\n",
    "plt.ylabel('Sales')\n",
    "plt.title('Box Plots of Sales by Store Type')\n",
    "plt.grid(True)\n",
    "# Show the plot\n",
    "plt.show()\n"
   ]
  },
  {
   "cell_type": "code",
   "execution_count": null,
   "id": "355dea93",
   "metadata": {},
   "outputs": [],
   "source": []
  },
  {
   "cell_type": "code",
   "execution_count": null,
   "id": "d9fb012a",
   "metadata": {},
   "outputs": [],
   "source": []
  },
  {
   "cell_type": "code",
   "execution_count": 17,
   "id": "b9a8db30",
   "metadata": {},
   "outputs": [
    {
     "name": "stdout",
     "output_type": "stream",
     "text": [
      "Mean Absolute Error (MAE): 749576.4973863965\n",
      "Root Mean Squared Error (RMSE): 1042046.6500783765\n"
     ]
    }
   ],
   "source": [
    "from sklearn.linear_model import LinearRegression\n",
    "from sklearn.model_selection import train_test_split\n",
    "from sklearn.metrics import mean_absolute_error, mean_squared_error\n",
    "from sklearn.preprocessing import LabelEncoder\n",
    "import numpy as np\n",
    "\n",
    "# Handle missing data (e.g., fill with zeros)\n",
    "data.fillna(0, inplace=True)\n",
    "\n",
    "# Encode categorical variables\n",
    "label_encoder = LabelEncoder()\n",
    "data['StoreType'] = label_encoder.fit_transform(data['StoreType'])\n",
    "\n",
    "# Split data into features (X) and target (y)\n",
    "X = data[['StoreType', 'Customers']]  # Include 'Customers' as a predictor\n",
    "y = data['Sales']\n",
    "\n",
    "# Split the data into training and testing sets\n",
    "X_train, X_test, y_train, y_test = train_test_split(X, y, test_size=0.2, random_state=42)\n",
    "\n",
    "# Create a Linear Regression model\n",
    "model = LinearRegression()\n",
    "\n",
    "# Train (fit) the model using the training data\n",
    "model.fit(X_train, y_train)\n",
    "\n",
    "# Make predictions on the testing data\n",
    "y_pred = model.predict(X_test)\n",
    "\n",
    "# Calculate MAE and RMSE\n",
    "mae = mean_absolute_error(y_test, y_pred)\n",
    "rmse = np.sqrt(mean_squared_error(y_test, y_pred))\n",
    "\n",
    "print(f\"Mean Absolute Error (MAE): {mae}\")\n",
    "print(f\"Root Mean Squared Error (RMSE): {rmse}\")\n"
   ]
  },
  {
   "cell_type": "code",
   "execution_count": 21,
   "id": "1c89109c",
   "metadata": {},
   "outputs": [
    {
     "name": "stdout",
     "output_type": "stream",
     "text": [
      "Predicted Sales for Store Type 1: 1948688.9681154937\n",
      "Predicted Sales for Store Type 2: 2141661.952078369\n",
      "Predicted Sales for Store Type 3: 2334634.936041245\n",
      "Predicted Sales for Store Type 4: 2527607.92000412\n"
     ]
    }
   ],
   "source": [
    "import pandas as pd\n",
    "\n",
    "\n",
    "store_types = [1, 2, 3, 4]\n",
    "customers = [50, 60, 70, 80]  \n",
    "predicted_sales = []\n",
    "\n",
    "for store_type, customer_count in zip(store_types, customers):\n",
    "    new_data_point = pd.DataFrame({'StoreType': [store_type], 'Customers': [customer_count]})\n",
    "    sales_prediction = model.predict(new_data_point)\n",
    "    predicted_sales.append(sales_prediction[0])\n",
    "\n",
    "for i, store_type in enumerate(store_types):\n",
    "    print(f\"Predicted Sales for Store Type {store_type}: {predicted_sales[i]}\")\n"
   ]
  },
  {
   "cell_type": "code",
   "execution_count": null,
   "id": "4c4fb36a",
   "metadata": {},
   "outputs": [],
   "source": []
  },
  {
   "cell_type": "code",
   "execution_count": null,
   "id": "6da5650a",
   "metadata": {},
   "outputs": [],
   "source": []
  },
  {
   "cell_type": "code",
   "execution_count": null,
   "id": "5b6d609c",
   "metadata": {},
   "outputs": [],
   "source": []
  },
  {
   "cell_type": "code",
   "execution_count": null,
   "id": "1746dcb2",
   "metadata": {},
   "outputs": [],
   "source": [
    "\n"
   ]
  },
  {
   "cell_type": "code",
   "execution_count": null,
   "id": "6a59d377",
   "metadata": {},
   "outputs": [],
   "source": []
  }
 ],
 "metadata": {
  "kernelspec": {
   "display_name": "Python 3 (ipykernel)",
   "language": "python",
   "name": "python3"
  },
  "language_info": {
   "codemirror_mode": {
    "name": "ipython",
    "version": 3
   },
   "file_extension": ".py",
   "mimetype": "text/x-python",
   "name": "python",
   "nbconvert_exporter": "python",
   "pygments_lexer": "ipython3",
   "version": "3.9.13"
  }
 },
 "nbformat": 4,
 "nbformat_minor": 5
}
